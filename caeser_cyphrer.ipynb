{
  "nbformat": 4,
  "nbformat_minor": 0,
  "metadata": {
    "colab": {
      "provenance": [],
      "authorship_tag": "ABX9TyPPaSD4REavxb/cfrF5dAXb",
      "include_colab_link": true
    },
    "kernelspec": {
      "name": "python3",
      "display_name": "Python 3"
    },
    "language_info": {
      "name": "python"
    }
  },
  "cells": [
    {
      "cell_type": "markdown",
      "metadata": {
        "id": "view-in-github",
        "colab_type": "text"
      },
      "source": [
        "<a href=\"https://colab.research.google.com/github/Parry-cpu/Caeser-Cypher/blob/main/caeser_cyphrer.ipynb\" target=\"_parent\"><img src=\"https://colab.research.google.com/assets/colab-badge.svg\" alt=\"Open In Colab\"/></a>"
      ]
    },
    {
      "cell_type": "markdown",
      "source": [
        "# ***Caeser Cypher code 1***\n",
        "Created Encrypt Function\n",
        "\n",
        "Error: list index out of range [0,25]\n",
        "Cant move z\n"
      ],
      "metadata": {
        "id": "UJ5ViQKo4h2Y"
      }
    },
    {
      "cell_type": "code",
      "execution_count": 7,
      "metadata": {
        "colab": {
          "base_uri": "https://localhost:8080/"
        },
        "id": "dDOFvvBdmVAG",
        "outputId": "acf78b12-4e12-45aa-f1af-b7f4b2cce753"
      },
      "outputs": [
        {
          "output_type": "stream",
          "name": "stdout",
          "text": [
            "Type 'encode' to encrypt and 'decode' to decrypt\n",
            "encode\n",
            "Type your message\n",
            "hello\n",
            "Type the shift number\n",
            "2\n",
            "The encrypted text is jgnnq\n"
          ]
        }
      ],
      "source": [
        "import string\n",
        "\n",
        "alphabets = list(string.ascii_lowercase)\n",
        "directions = input(\"Type 'encode' to encrypt and 'decode' to decrypt\\n\")\n",
        "text = input(\"Type your message\\n\").lower()  # Added parentheses to call the method\n",
        "shift = int(input(\"Type the shift number\\n\"))\n",
        "\n",
        "def encrypt(original_text,shift_amount):\n",
        "  cyphered_text = ''\n",
        "  for letter in original_text:\n",
        "    shifted_position = alphabets.index(letter)+ shift_amount\n",
        "    shifted_position %= len(alphabets)  # Added modulo to wrap around\n",
        "    cyphered_text += alphabets[shifted_position]\n",
        "  print(f\"The encrypted text is {cyphered_text}\")\n",
        "\n",
        "encrypt(text,shift)"
      ]
    },
    {
      "cell_type": "markdown",
      "source": [
        "# ***Caeser Cypher code 2***\n",
        "\n",
        "**Error index out of list!!!!!!!!!!!    SOLUTION**"
      ],
      "metadata": {
        "id": "G1ZFl8F_4xGI"
      }
    },
    {
      "cell_type": "code",
      "source": [
        "import string\n",
        "\n",
        "alphabets = list(string.ascii_lowercase)\n",
        "directions = input(\"Type 'encode' to encrypt and 'decode' to decrypt\\n\")\n",
        "text = input(\"Type your message\\n\").lower()\n",
        "shift = int(input(\"Type the shift number\\n\"))\n",
        "\n",
        "def encrypt(original_text,shift_amount):\n",
        "  cyphered_text = ''\n",
        "  for letter in original_text:\n",
        "    shifted_position = alphabets.index(letter)+ shift_amount\n",
        "    shifted_position %= len(alphabets)\n",
        "    cyphered_text += alphabets[shifted_position]\n",
        "  print(f\"The encrypted text is {cyphered_text}\")\n",
        "\n",
        "encrypt(text,shift)"
      ],
      "metadata": {
        "id": "f9zyujwV67_E"
      },
      "execution_count": null,
      "outputs": []
    },
    {
      "cell_type": "markdown",
      "source": [
        "**Explanation**\n",
        "\n",
        "---\n",
        "\n",
        "## 🔐 Caesar Cipher Encryption in Python — Explanation and Fix\n",
        "\n",
        "### 📝 Overview\n",
        "\n",
        "This Python script performs Caesar Cipher encryption on lowercase text. It shifts each letter forward by a given number (the *shift value*) in the alphabet. For example, with a shift of 2, `'a'` becomes `'c'`, `'b'` becomes `'d'`, and so on.\n",
        "\n",
        "---\n",
        "\n",
        "### ❌ Problem: `IndexError: list index out of range`\n",
        "\n",
        "This error happens when the new shifted index goes **beyond the length of the `alphabets` list**.\n",
        "For example:\n",
        "\n",
        "* The alphabet list contains 26 lowercase letters:\n",
        "  `'a', 'b', 'c', ..., 'z'`\n",
        "* If you try to shift `'z'` (which is at index 25) by 2:\n",
        "\n",
        "  ```python\n",
        "  shifted_position = 25 + 2 = 27\n",
        "  ```\n",
        "\n",
        "  But there is **no index 27** in the list (since it goes from 0 to 25). Hence, you get an `IndexError`.\n",
        "\n",
        "---\n",
        "\n",
        "### ✅ The Fix: Wrapping Around Using Modulo (`%`)\n",
        "\n",
        "To fix this, we use the modulo operator (`%`) to **wrap the shifted index back into the valid range** of the alphabet:\n",
        "\n",
        "```python\n",
        "shifted_position %= len(alphabets)\n",
        "```\n",
        "\n",
        "This ensures that if the index goes beyond 25, it wraps around to the beginning of the alphabet.\n",
        "\n",
        "#### ✅ Example:\n",
        "\n",
        "```python\n",
        "shifted_position = (25 + 2) % 26 = 1\n",
        "```\n",
        "\n",
        "So `'z'` shifted by 2 becomes `'b'`, and the error is avoided.\n",
        "\n",
        "---\n",
        "\n",
        "### 🧠 Summary\n",
        "\n",
        "* The Caesar Cipher works by shifting letters along the alphabet.\n",
        "* If the shift moves beyond `'z'`, the index goes out of bounds, causing an `IndexError`.\n",
        "* Using `% len(alphabets)` wraps the index back to the beginning.\n",
        "* The final code also preserves symbols, numbers, and spaces by checking if the character is in the alphabet.\n",
        "\n",
        "---"
      ],
      "metadata": {
        "id": "pJY7U0b19UDH"
      }
    },
    {
      "cell_type": "markdown",
      "source": [
        "# **Caeser Cypher code 3**\n",
        "\n",
        "**Decryption**\n",
        "Add a function called decrypt to decrypt the orignial text\n",
        "\n",
        "**Explanation**\n",
        "Subtract shift amount from the index of the letter corresponding to the alphabet list"
      ],
      "metadata": {
        "id": "lpvHFuzo9W_D"
      }
    },
    {
      "cell_type": "code",
      "source": [
        "import string\n",
        "\n",
        "alphabets = list(string.ascii_lowercase)\n",
        "directions = input(\"Type 'encode' to encrypt and 'decode' to decrypt\\n\")\n",
        "text = input(\"Type your message\\n\").lower()\n",
        "shift = int(input(\"Type the shift number\\n\"))\n",
        "\n",
        "def encrypt(original_text,shift_amount):\n",
        "    cyphered_text = ''\n",
        "    for letter in original_text:\n",
        "      shifted_position = alphabets.index(letter)+ shift_amount\n",
        "      shifted_position %= len(alphabets)\n",
        "      cyphered_text += alphabets[shifted_position]\n",
        "    print(f\"The encrypted text is {cyphered_text}\")\n",
        "\n",
        "def decrypt(cyphered_text,shift_amount):\n",
        "    original_text = ''\n",
        "    for letter in cyphered_text:\n",
        "      original_position = alphabets.index(letter) - shift_amount\n",
        "      original_position %= len(alphabets)\n",
        "      original_text += alphabets[original_position]\n",
        "    print(f\"The original text is {original_text}\")\n",
        "\n",
        "if directions == 'encode':\n",
        "  encrypt(text,shift)\n",
        "elif directions == 'decode':\n",
        "  decrypt(text,shift)\n",
        "\n"
      ],
      "metadata": {
        "colab": {
          "base_uri": "https://localhost:8080/"
        },
        "id": "4ZmCUQAE9o-q",
        "outputId": "04eb7841-d5e6-4374-b5c6-270d4cf1adca"
      },
      "execution_count": 18,
      "outputs": [
        {
          "output_type": "stream",
          "name": "stdout",
          "text": [
            "Type 'encode' to encrypt and 'decode' to decrypt\n",
            "decode\n",
            "Type your message\n",
            "jgnnq\n",
            "Type the shift number\n",
            "2\n",
            "The original text is hello\n"
          ]
        }
      ]
    },
    {
      "cell_type": "markdown",
      "source": [
        "✅ Modulo Fixes Negative Indexes\n",
        "Python allows negative indices in lists (e.g., list[-1] means last item), but in this context, we don’t want that — we want the alphabet to wrap around cleanly.\n",
        "\n",
        "🔍 Example Without Modulo\n",
        "Suppose the letter is 'b'\n",
        "→ index is 1\n",
        "\n",
        "Shift is 3\n",
        "\n",
        "original_position = 1 - 3 = -2\n",
        "→ alphabets[-2] = 'y' (unexpectedly works in Python, but this is accidental)\n",
        "\n",
        "To make this mathematically correct and predictable:\n",
        "\n",
        "✅ Use:\n",
        "\n",
        "original_position = (1 - 3) % 26 = (-2) % 26 = 24\n",
        "So 'b' decrypts to 'y', which is correct for Caesar cipher.\n",
        "\n",
        "⚙️ How Does -2 % 26 = 24 Work?\n",
        "In Python (and most programming languages), the modulo operator always gives a non-negative remainder when the second operand is positive:\n",
        "\n",
        "\n",
        "-2 % 26 = 26 - 2 = 24\n",
        "This is essentially wrapping around the circle of the alphabet:\n",
        "\n",
        "\n",
        "a b c ... x y z\n",
        "0 1 2 ... 23 24 25\n",
        "If you go backwards past 'a', it wraps around to the end of the alphabet.\n",
        "\n",
        "🧠 Summary for Your Documentation\n",
        "In Caesar Cipher decryption, we subtract the shift.\n",
        "\n",
        "Subtracting can result in negative indices.\n",
        "\n",
        "To wrap around the alphabet correctly, we use:\n",
        "\n",
        "\n",
        "original_position %= len(alphabets)\n",
        "This ensures the index always stays within 0–25, allowing correct mapping to the original letter."
      ],
      "metadata": {
        "id": "7PGbfNbj-6DC"
      }
    },
    {
      "cell_type": "markdown",
      "source": [
        "# ***Shortening the code by creating a single function***\n",
        "\n",
        "Create a function encrypt_decrypt"
      ],
      "metadata": {
        "id": "zcATEg-bCx4r"
      }
    },
    {
      "cell_type": "code",
      "source": [
        "import string\n",
        "\n",
        "alphabets = list(string.ascii_lowercase)\n",
        "directions = input(\"Type 'encode' to encrypt and 'decode' to decrypt\\n\")\n",
        "text = input(\"Type your message\\n\").lower()\n",
        "shift = int(input(\"Type the shift number\\n\"))\n",
        "\n",
        "def caeser_cypher(input_text,shift_amount,encode_or_decode):\n",
        " output_text = ''\n",
        "\n",
        " if encode_or_decode == 'decode':\n",
        "    shift_amount *= -1\n",
        "\n",
        " for letter in input_text:\n",
        "   shifted_position = alphabets.index(letter)+ shift_amount\n",
        "   shifted_position %= len(alphabets)\n",
        "   output_text += alphabets[shifted_position]\n",
        " print(f\"The {encode_or_decode}d text is {output_text}\")\n",
        "\n",
        "\n",
        "caeser_cypher(text,shift,directions)\n"
      ],
      "metadata": {
        "colab": {
          "base_uri": "https://localhost:8080/"
        },
        "id": "HssM040MC_Ru",
        "outputId": "6fb704d7-90bb-4d6f-d156-4e8ad0651322"
      },
      "execution_count": 41,
      "outputs": [
        {
          "output_type": "stream",
          "name": "stdout",
          "text": [
            "Type 'encode' to encrypt and 'decode' to decrypt\n",
            "encode\n",
            "Type your message\n",
            "hello\n",
            "Type the shift number\n",
            "2\n",
            "The encoded text is jgnnq\n",
            "Do you want to restart the program? Type 'yes' if you want to go again. Otherwise type 'no'.\n",
            "yes\n",
            "Type 'encode' to encrypt and 'decode' to decrypt\n",
            "decode\n",
            "Type your message\n",
            "jgnnq\n",
            "Type the shift number\n",
            "2\n",
            "The decoded text is hello\n",
            "Do you want to restart the program? Type 'yes' if you want to go again. Otherwise type 'no'.\n",
            "no\n",
            "Goodbye have a nice day!\n"
          ]
        }
      ]
    },
    {
      "cell_type": "markdown",
      "source": [
        "# ***What to do if the user enters a number symbol or space???***\n",
        "\n",
        "Answer = just add them to the output text if they are not in the alphabets list\n"
      ],
      "metadata": {
        "id": "mamYTp5lO6e3"
      }
    },
    {
      "cell_type": "code",
      "source": [
        "import string\n",
        "\n",
        "alphabets = list(string.ascii_lowercase)\n",
        "should_continue = True\n",
        "\n",
        "def caeser_cypher(input_text,shift_amount,encode_or_decode):\n",
        " output_text = ''\n",
        " saved_og = []\n",
        " saved_cypher =[]\n",
        "\n",
        " if encode_or_decode == 'decode':\n",
        "    shift_amount *= -1\n",
        "\n",
        " for letter in input_text:\n",
        "\n",
        "  if letter not in alphabets:\n",
        "    output_text += letter\n",
        "  else:\n",
        "    shifted_position = alphabets.index(letter)+ shift_amount\n",
        "    shifted_position %= len(alphabets)\n",
        "    output_text += alphabets[shifted_position]\n",
        " print(f\"The {encode_or_decode}d text is {output_text}\")\n",
        "\n",
        " if encode_or_decode == 'encode':\n",
        "  saved_og.append(output_text)\n",
        " else:\n",
        "  saved_cypher.append(output_text)\n",
        "\n",
        "while should_continue:\n",
        "  directions = input(\"Type 'encode' to encrypt and 'decode' to decrypt\\n\")\n",
        "  text = input(\"Type your message\\n\").lower()\n",
        "  shift = int(input(\"Type the shift number\\n\"))\n",
        "  caeser_cypher(text,shift,directions)\n",
        "  restart = input(\"Do you want to restart the program? Type 'yes' if you want to go again. Otherwise type 'no'.\\n\")\n",
        "  if restart == 'no':\n",
        "    should_continue = False\n",
        "    print(\"Goodbye have a nice day!\")"
      ],
      "metadata": {
        "colab": {
          "base_uri": "https://localhost:8080/"
        },
        "id": "9bKGKD5wPDcJ",
        "outputId": "86039add-ed80-4fdc-acb9-645c39898145"
      },
      "execution_count": 43,
      "outputs": [
        {
          "output_type": "stream",
          "name": "stdout",
          "text": [
            "Type 'encode' to encrypt and 'decode' to decrypt\n",
            "encode\n",
            "Type your message\n",
            "hello\n",
            "Type the shift number\n",
            "2\n",
            "The encoded text is jgnnq\n",
            "Do you want to restart the program? Type 'yes' if you want to go again. Otherwise type 'no'.\n",
            "yes\n",
            "Type 'encode' to encrypt and 'decode' to decrypt\n",
            "encode\n",
            "Type your message\n",
            "Paramhans 123\n",
            "Type the shift number\n",
            "2\n",
            "The encoded text is rctcojcpu 123\n",
            "Do you want to restart the program? Type 'yes' if you want to go again. Otherwise type 'no'.\n",
            "no\n",
            "Goodbye have a nice day!\n"
          ]
        }
      ]
    }
  ]
}